{
  "nbformat": 4,
  "nbformat_minor": 0,
  "metadata": {
    "colab": {
      "name": "assignment3.ipynb",
      "version": "0.3.2",
      "provenance": [],
      "include_colab_link": true
    },
    "kernelspec": {
      "name": "python3",
      "display_name": "Python 3"
    }
  },
  "cells": [
    {
      "cell_type": "markdown",
      "metadata": {
        "id": "view-in-github",
        "colab_type": "text"
      },
      "source": [
        "[View in Colaboratory](https://colab.research.google.com/github/Krishna24s/assignments/blob/master/assignment3.ipynb)"
      ]
    },
    {
      "metadata": {
        "id": "rDoDuZVKpg7A",
        "colab_type": "code",
        "colab": {
          "base_uri": "https://localhost:8080/",
          "height": 34
        },
        "outputId": "08aa71ed-10e4-4f61-ca31-7798ab4d897d"
      },
      "cell_type": "code",
      "source": [
        "#Question 1\n",
        "pA=0.30\n",
        "pB=0.16\n",
        "pAifB=0.05\n",
        "pBifA=(pAifB*pB)/pA\n",
        "print(pBifA)"
      ],
      "execution_count": 1,
      "outputs": [
        {
          "output_type": "stream",
          "text": [
            "0.02666666666666667\n"
          ],
          "name": "stdout"
        }
      ]
    },
    {
      "metadata": {
        "id": "SQmFVf7tpkZ-",
        "colab_type": "code",
        "colab": {
          "base_uri": "https://localhost:8080/",
          "height": 34
        },
        "outputId": "6d652d87-0091-4b2e-c2d9-2deff5e06ad4"
      },
      "cell_type": "code",
      "source": [
        "#Question 2\n",
        "bag1=1.0/2 #probability of selecting bag1\n",
        "bag2=1.0/2 #probability of selecting bag2\n",
        "black1=6.0/10 #probability of selecting black ball from bag1\n",
        "black2=3.0/7 #probability of selecting black ball from bag2\n",
        "pblack1=(bag1*black1)/((bag1*black1)+(bag2*black2))\n",
        "print(pblack1)"
      ],
      "execution_count": 2,
      "outputs": [
        {
          "output_type": "stream",
          "text": [
            "0.5833333333333334\n"
          ],
          "name": "stdout"
        }
      ]
    },
    {
      "metadata": {
        "id": "8rqj7BgJpnaj",
        "colab_type": "code",
        "colab": {
          "base_uri": "https://localhost:8080/",
          "height": 34
        },
        "outputId": "15acf424-fd4d-4a98-ccc2-1e70192aa3fa"
      },
      "cell_type": "code",
      "source": [
        "#Question 3\n",
        "truth=2.0/3 #probability of speaking truth\n",
        "lie=1.0/3 #probability of speaking lie\n",
        "p4=1.0/6 #probability of number obtained is 4\n",
        "pn4=5.0/6 #probability of number obtained is not 4\n",
        "probab=(truth*p4)/((truth*p4)+(lie*pn4))\n",
        "print(probab)"
      ],
      "execution_count": 3,
      "outputs": [
        {
          "output_type": "stream",
          "text": [
            "0.2857142857142857\n"
          ],
          "name": "stdout"
        }
      ]
    },
    {
      "metadata": {
        "id": "fbtg2GO2psYv",
        "colab_type": "code",
        "colab": {}
      },
      "cell_type": "code",
      "source": [
        ""
      ],
      "execution_count": 0,
      "outputs": []
    }
  ]
}